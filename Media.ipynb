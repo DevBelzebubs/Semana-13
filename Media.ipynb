{
  "nbformat": 4,
  "nbformat_minor": 0,
  "metadata": {
    "colab": {
      "provenance": []
    },
    "kernelspec": {
      "name": "python3",
      "display_name": "Python 3"
    },
    "language_info": {
      "name": "python"
    }
  },
  "cells": [
    {
      "cell_type": "code",
      "source": [
        "from pyspark.sql import SparkSession"
      ],
      "metadata": {
        "id": "P70YZU-vaZvD"
      },
      "execution_count": 1,
      "outputs": []
    },
    {
      "cell_type": "code",
      "source": [
        "from pyspark.sql.functions import avg, col, expr, mean,corr"
      ],
      "metadata": {
        "id": "Uk9w9mD2auej"
      },
      "execution_count": 22,
      "outputs": []
    },
    {
      "cell_type": "code",
      "source": [
        "data_producto = [(\"Arroz\",\"Tipo 1\",32.00,31),(\"Huevo\",\"Tipo 1\",12.00,14),(\"Leche\",\"Tipo 2\",25.00,19),(\"Jugo de naranja\",\"Tipo 2\",7.00,56),(\"Carne\",\"Tipo 1\",12.00,34),(\"Azucar\",\"Tipo 2\",4.00,29)]\n",
        "columns = [\"Producto\",\"Tipo\",\"Precio\",\"Cantidad\"]\n",
        "df_producto = spark.createDataFrame(data_producto,columns)"
      ],
      "metadata": {
        "id": "95ZUt3VRlyt6"
      },
      "execution_count": 25,
      "outputs": []
    },
    {
      "cell_type": "code",
      "source": [
        "df_producto.groupBy(\"Tipo\").agg(avg(\"precio\").alias(\"Precio_Promedio\")).show()"
      ],
      "metadata": {
        "colab": {
          "base_uri": "https://localhost:8080/"
        },
        "id": "AzQ1XX_yofPU",
        "outputId": "719a65fd-7fb9-4318-d901-a1ed78ace2fc"
      },
      "execution_count": 26,
      "outputs": [
        {
          "output_type": "stream",
          "name": "stdout",
          "text": [
            "+------+------------------+\n",
            "|  Tipo|   Precio_Promedio|\n",
            "+------+------------------+\n",
            "|Tipo 2|              12.0|\n",
            "|Tipo 1|18.666666666666668|\n",
            "+------+------------------+\n",
            "\n"
          ]
        }
      ]
    }
  ]
}
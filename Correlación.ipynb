{
  "nbformat": 4,
  "nbformat_minor": 0,
  "metadata": {
    "colab": {
      "provenance": []
    },
    "kernelspec": {
      "name": "python3",
      "display_name": "Python 3"
    },
    "language_info": {
      "name": "python"
    }
  },
  "cells": [
    {
      "cell_type": "code",
      "source": [
        "from pyspark.sql import SparkSession"
      ],
      "metadata": {
        "id": "P70YZU-vaZvD"
      },
      "execution_count": 1,
      "outputs": []
    },
    {
      "cell_type": "code",
      "source": [
        "from pyspark.sql.functions import avg, col, expr, mean,corr"
      ],
      "metadata": {
        "id": "Uk9w9mD2auej"
      },
      "execution_count": 22,
      "outputs": []
    },
    {
      "cell_type": "code",
      "source": [
        "data_producto = [(\"Arroz\",\"Tipo 1\",32.00,31),(\"Huevo\",\"Tipo 1\",12.00,14),(\"Leche\",\"Tipo 2\",25.00,19),(\"Jugo de naranja\",\"Tipo 2\",7.00,56),(\"Carne\",\"Tipo 1\",12.00,34),(\"Azucar\",\"Tipo 2\",4.00,29)]\n",
        "columns = [\"Producto\",\"Tipo\",\"Precio\",\"Cantidad\"]\n",
        "df_producto = spark.createDataFrame(data_producto,columns)"
      ],
      "metadata": {
        "id": "95ZUt3VRlyt6"
      },
      "execution_count": 25,
      "outputs": []
    },
    {
      "cell_type": "code",
      "source": [
        "correlacion = df_producto.stat.corr(\"Precio\",\"Cantidad\")\n",
        "print(f\"Correlación entre precio y cantidad: {correlacion}\")"
      ],
      "metadata": {
        "colab": {
          "base_uri": "https://localhost:8080/"
        },
        "id": "yZn_hjyGuBtq",
        "outputId": "ea41f9b2-ea1c-4d07-f382-2e51bee7eefc"
      },
      "execution_count": 34,
      "outputs": [
        {
          "output_type": "stream",
          "name": "stdout",
          "text": [
            "Correlación entre precio y cantidad: -0.3206517434377103\n"
          ]
        }
      ]
    }
  ]
}
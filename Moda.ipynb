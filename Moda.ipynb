{
  "nbformat": 4,
  "nbformat_minor": 0,
  "metadata": {
    "colab": {
      "provenance": []
    },
    "kernelspec": {
      "name": "python3",
      "display_name": "Python 3"
    },
    "language_info": {
      "name": "python"
    }
  },
  "cells": [
    {
      "cell_type": "code",
      "source": [
        "from pyspark.sql import SparkSession"
      ],
      "metadata": {
        "id": "P70YZU-vaZvD"
      },
      "execution_count": 1,
      "outputs": []
    },
    {
      "cell_type": "code",
      "source": [
        "from pyspark.sql.functions import avg, col, expr, mean,corr"
      ],
      "metadata": {
        "id": "Uk9w9mD2auej"
      },
      "execution_count": 22,
      "outputs": []
    },
    {
      "cell_type": "code",
      "source": [
        "data_producto = [(\"Arroz\",\"Tipo 1\",32.00,31),(\"Huevo\",\"Tipo 1\",12.00,14),(\"Leche\",\"Tipo 2\",25.00,19),(\"Jugo de naranja\",\"Tipo 2\",7.00,56),(\"Carne\",\"Tipo 1\",12.00,34),(\"Azucar\",\"Tipo 2\",4.00,29)]\n",
        "columns = [\"Producto\",\"Tipo\",\"Precio\",\"Cantidad\"]\n",
        "df_producto = spark.createDataFrame(data_producto,columns)"
      ],
      "metadata": {
        "id": "95ZUt3VRlyt6"
      },
      "execution_count": 25,
      "outputs": []
    },
    {
      "cell_type": "code",
      "source": [
        "moda_calif = df_producto.groupBy(\"Tipo\").count().orderBy(col(\"count\").desc()).first()\n",
        "[\"calificacion\"]\n",
        "print(f\"Moda de calificación: {moda_calif}\")"
      ],
      "metadata": {
        "colab": {
          "base_uri": "https://localhost:8080/"
        },
        "id": "p0q1WUAerTvq",
        "outputId": "1c966055-ed5a-4334-fcdb-caca7f8d459a"
      },
      "execution_count": 31,
      "outputs": [
        {
          "output_type": "stream",
          "name": "stdout",
          "text": [
            "Moda de calificación: Row(Tipo='Tipo 2', count=3)\n"
          ]
        }
      ]
    },
    {
      "cell_type": "code",
      "source": [],
      "metadata": {
        "id": "0864WHb-sjq8"
      },
      "execution_count": null,
      "outputs": []
    }
  ]
}
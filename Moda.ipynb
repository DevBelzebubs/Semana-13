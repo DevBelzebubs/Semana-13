{
  "nbformat": 4,
  "nbformat_minor": 0,
  "metadata": {
    "colab": {
      "provenance": []
    },
    "kernelspec": {
      "name": "python3",
      "display_name": "Python 3"
    },
    "language_info": {
      "name": "python"
    }
  },
  "cells": [
    {
      "cell_type": "code",
      "source": [
        "from pyspark.sql import SparkSession"
      ],
      "metadata": {
        "id": "P70YZU-vaZvD"
      },
      "execution_count": 1,
      "outputs": []
    },
    {
      "cell_type": "code",
      "source": [
        "from pyspark.sql.functions import avg, col, expr, mean,corr"
      ],
      "metadata": {
        "id": "Uk9w9mD2auej"
      },
      "execution_count": 22,
      "outputs": []
    },
    {
      "cell_type": "code",
      "source": [
        "data_producto = [(\"Arroz\",\"Tipo 1\",32.00,31),(\"Huevo\",\"Tipo 1\",12.00,14),(\"Leche\",\"Tipo 2\",25.00,19),(\"Jugo de naranja\",\"Tipo 2\",7.00,56),(\"Carne\",\"Tipo 1\",12.00,34),(\"Azucar\",\"Tipo 2\",4.00,29)]\n",
        "columns = [\"Producto\",\"Tipo\",\"Precio\",\"Cantidad\"]\n",
        "df_producto = spark.createDataFrame(data_producto,columns)"
      ],
      "metadata": {
        "id": "95ZUt3VRlyt6"
      },
      "execution_count": 25,
      "outputs": []
    },
    {
      "cell_type": "code",
      "source": [
        "moda_calif = df_producto.groupBy(\"Precio\").count().orderBy(col(\"count\").desc()).first()\n",
        "[\"Precio\"]\n",
        "print(f\"Moda de Precio: {moda_calif}\")"
      ],
      "metadata": {
        "colab": {
          "base_uri": "https://localhost:8080/"
        },
        "id": "yZn_hjyGuBtq",
        "outputId": "08db7b75-371e-4f58-caf1-a57fef13538b"
      },
      "execution_count": 35,
      "outputs": [
        {
          "output_type": "stream",
          "name": "stdout",
          "text": [
            "Moda de Precio: Row(Precio=12.0, count=2)\n"
          ]
        }
      ]
    }
  ]
}
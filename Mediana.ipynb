{
  "nbformat": 4,
  "nbformat_minor": 0,
  "metadata": {
    "colab": {
      "provenance": []
    },
    "kernelspec": {
      "name": "python3",
      "display_name": "Python 3"
    },
    "language_info": {
      "name": "python"
    }
  },
  "cells": [
    {
      "cell_type": "code",
      "source": [
        "from pyspark.sql import SparkSession"
      ],
      "metadata": {
        "id": "P70YZU-vaZvD"
      },
      "execution_count": 1,
      "outputs": []
    },
    {
      "cell_type": "code",
      "source": [
        "from pyspark.sql.functions import avg, col, expr, mean,corr"
      ],
      "metadata": {
        "id": "Uk9w9mD2auej"
      },
      "execution_count": 22,
      "outputs": []
    },
    {
      "cell_type": "code",
      "source": [
        "data_producto = [(\"Arroz\",\"Tipo 1\",32.00,31),(\"Huevo\",\"Tipo 1\",12.00,14),(\"Leche\",\"Tipo 2\",25.00,19),(\"Jugo de naranja\",\"Tipo 2\",7.00,56),(\"Carne\",\"Tipo 1\",12.00,34),(\"Azucar\",\"Tipo 2\",4.00,29)]\n",
        "columns = [\"Producto\",\"Tipo\",\"Precio\",\"Cantidad\"]\n",
        "df_producto = spark.createDataFrame(data_producto,columns)"
      ],
      "metadata": {
        "id": "95ZUt3VRlyt6"
      },
      "execution_count": 25,
      "outputs": []
    },
    {
      "cell_type": "code",
      "source": [
        "mediana = df_producto.approxQuantile(\"precio\",[0.5],0.01)[0]\n",
        "print(f\"Mediana de precio:{mediana}\")"
      ],
      "metadata": {
        "colab": {
          "base_uri": "https://localhost:8080/"
        },
        "id": "0864WHb-sjq8",
        "outputId": "efee850a-8676-4dd7-a10e-5d3f93d23d98"
      },
      "execution_count": 33,
      "outputs": [
        {
          "output_type": "stream",
          "name": "stdout",
          "text": [
            "Mediana de precio:12.0\n"
          ]
        }
      ]
    }
  ]
}